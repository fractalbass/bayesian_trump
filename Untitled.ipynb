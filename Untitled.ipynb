{
 "cells": [
  {
   "cell_type": "code",
   "execution_count": 15,
   "metadata": {},
   "outputs": [
    {
     "name": "stdout",
     "output_type": "stream",
     "text": [
      "Results from jumping on the counter\n",
      "\n",
      "| Stay | Jump |\n",
      "|:-------------:|:-------------:|\n",
      "| 11  | 9 |\n",
      "\n",
      "Conditional results from jumping on the counter\n",
      "\n",
      "| Food on Counter | Stay | Jump |\n",
      "|:-------------:|:-------------:|\n",
      " Salmon     | 9  | 1 |\n",
      " Not Salmon | 2  | 8 |\n"
     ]
    }
   ],
   "source": [
    "import random\n",
    "\n",
    "jump_salmon=0\n",
    "stay_salmon=0\n",
    "jump_other=0\n",
    "stay_other=0\n",
    "\n",
    "\n",
    "for t in range(0,10):\n",
    "    r = random.random()\n",
    "    if r>0.7:\n",
    "        jump_salmon+=1\n",
    "    else:\n",
    "        stay_salmon+=1\n",
    "        \n",
    "        \n",
    "for t in range(0,10):\n",
    "    r = random.random()\n",
    "    if r>0.5:\n",
    "        jump_other+=1\n",
    "    else:\n",
    "        stay_other+=1\n",
    "\n",
    "print(\"Results from jumping on the counter\")\n",
    "print(\"\")\n",
    "print(\"| Stay | Jump |\")\n",
    "print(\"|:-------------:|:-------------:|\")\n",
    "print(\"| {0}  | {1} |\".format(stay_salmon+stay_other, jump_salmon+jump_other))\n",
    "print()\n",
    "print(\"Conditional results from jumping on the counter\")\n",
    "print()\n",
    "print(\"| Food on Counter | Stay | Jump |\")\n",
    "print(\"|:-------------:|:-------------:|\")\n",
    "print(\"| Salmon     | {0}  | {1} |\".format(stay_salmon, jump_salmon))\n",
    "print(\"| Not Salmon | {0}  | {1} |\".format(stay_other, jump_other))"
   ]
  },
  {
   "cell_type": "code",
   "execution_count": null,
   "metadata": {
    "collapsed": true
   },
   "outputs": [],
   "source": [
    ""
   ]
  },
  {
   "cell_type": "code",
   "execution_count": null,
   "metadata": {
    "collapsed": true
   },
   "outputs": [],
   "source": [
    ""
   ]
  },
  {
   "cell_type": "code",
   "execution_count": null,
   "metadata": {
    "collapsed": true
   },
   "outputs": [],
   "source": [
    ""
   ]
  }
 ],
 "metadata": {
  "kernelspec": {
   "display_name": "Python 3",
   "language": "python",
   "name": "python3"
  },
  "language_info": {
   "codemirror_mode": {
    "name": "ipython",
    "version": 3.0
   },
   "file_extension": ".py",
   "mimetype": "text/x-python",
   "name": "python",
   "nbconvert_exporter": "python",
   "pygments_lexer": "ipython3",
   "version": "3.6.1"
  }
 },
 "nbformat": 4,
 "nbformat_minor": 0
}