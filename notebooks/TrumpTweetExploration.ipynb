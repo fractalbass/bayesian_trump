{
 "cells": [
  {
   "cell_type": "code",
   "execution_count": 27,
   "metadata": {},
   "outputs": [
    {
     "name": "stderr",
     "output_type": "stream",
     "text": [
      "/Users/milesporter/data-science/udacity_data_sci/py3_fwk_env/lib/python3.6/site-packages/IPython/core/interactiveshell.py:2698: DtypeWarning: Columns (16,24) have mixed types. Specify dtype option on import or set low_memory=False.\n",
      "  interactivity=interactivity, compiler=compiler, result=result)\n",
      "/Users/milesporter/data-science/udacity_data_sci/py3_fwk_env/lib/python3.6/site-packages/pandas/core/internals.py:3224: FutureWarning: Passing in 'datetime64' dtype with no frequency is deprecated and will raise in a future version. Please pass in 'datetime64[ns]' instead.\n",
      "  return self.apply('astype', dtype=dtype, **kwargs)\n"
     ]
    },
    {
     "name": "stdout",
     "output_type": "stream",
     "text": [
      "Iterating...\n",
      "count    160\n",
      "Name: 2015-01-05, dtype: int64\n"
     ]
    }
   ],
   "source": [
    "import pandas as  pd\n",
    "import numpy as np\n",
    "\n",
    "testData = pd.read_csv(\"/Users/milesporter/data-science/bayesian-trump/data/realdonaldtrump-fullarchive.csv\")\n",
    "df = pd.DataFrame(testData[\"created_at\"].astype(\"datetime64\"))\n",
    "counts = df.groupby(df[\"created_at\"].dt.date).count()\n",
    "dateArray = []\n",
    "countArray = []\n",
    "print(\"Iterating...\")\n",
    "for index, row in counts.iterrows():\n",
    "    dateArray.append(index)\n",
    "    countArray.append(row[-1])\n",
    "    \n",
    "newdf = pd.DataFrame(index=dateArray, data=countArray)\n",
    "newdf.columns=[\"count\"]\n",
    "\n",
    "print(newdf.loc[newdf['count'].idxmax()])\n",
    "\n"
   ]
  },
  {
   "cell_type": "code",
   "execution_count": null,
   "metadata": {
    "collapsed": true
   },
   "outputs": [],
   "source": []
  }
 ],
 "metadata": {
  "kernelspec": {
   "display_name": "Python 3",
   "language": "python",
   "name": "python3"
  },
  "language_info": {
   "codemirror_mode": {
    "name": "ipython",
    "version": 3
   },
   "file_extension": ".py",
   "mimetype": "text/x-python",
   "name": "python",
   "nbconvert_exporter": "python",
   "pygments_lexer": "ipython3",
   "version": "3.6.1"
  }
 },
 "nbformat": 4,
 "nbformat_minor": 2
}
