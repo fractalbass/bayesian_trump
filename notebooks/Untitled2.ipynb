{
 "cells": [
  {
   "cell_type": "code",
   "execution_count": 15,
   "metadata": {},
   "outputs": [
    {
     "name": "stdout",
     "output_type": "stream",
     "text": [
      "Iterating...\n",
      "-----------------------\n",
      "Index: 2017-06-25\n",
      "Row: 3\n",
      "-----------------------\n",
      "Index: 2017-06-26\n",
      "Row: 4\n",
      "-----------------------\n",
      "Index: 2017-06-27\n",
      "Row: 3\n",
      "            count\n",
      "2017-06-25      3\n",
      "2017-06-26      4\n",
      "2017-06-27      3\n"
     ]
    },
    {
     "name": "stderr",
     "output_type": "stream",
     "text": [
      "/Users/milesporter/data-science/udacity_data_sci/py3_fwk_env/lib/python3.6/site-packages/pandas/core/internals.py:3224: FutureWarning: Passing in 'datetime64' dtype with no frequency is deprecated and will raise in a future version. Please pass in 'datetime64[ns]' instead.\n",
      "  return self.apply('astype', dtype=dtype, **kwargs)\n"
     ]
    }
   ],
   "source": [
    "import pandas as  pd\n",
    "import numpy as np\n",
    "\n",
    "testData = pd.read_csv(\"/Users/milesporter/data-science/bayesian-trump/data/testdata.csv\")\n",
    "df = pd.DataFrame(testData[\"created_at\"].astype(\"datetime64\"))\n",
    "counts = df.groupby(df[\"created_at\"].dt.date).count()\n",
    "dateArray = []\n",
    "countArray = []\n",
    "print(\"Iterating...\")\n",
    "for index, row in counts.iterrows():\n",
    "    print(\"-----------------------\")\n",
    "    print(\"Index:\", index)\n",
    "    dateArray.append(index)\n",
    "    print(\"Row:\", row[-1])\n",
    "    countArray.append(row[-1])\n",
    "    \n",
    "newdf = pd.DataFrame(index=dateArray, data=countArray)\n",
    "newdf.columns=[\"count\"]\n",
    "print(newdf)\n",
    "\n"
   ]
  },
  {
   "cell_type": "code",
   "execution_count": null,
   "metadata": {
    "collapsed": true
   },
   "outputs": [],
   "source": []
  }
 ],
 "metadata": {
  "kernelspec": {
   "display_name": "Python 3",
   "language": "python",
   "name": "python3"
  },
  "language_info": {
   "codemirror_mode": {
    "name": "ipython",
    "version": 3
   },
   "file_extension": ".py",
   "mimetype": "text/x-python",
   "name": "python",
   "nbconvert_exporter": "python",
   "pygments_lexer": "ipython3",
   "version": "3.6.1"
  }
 },
 "nbformat": 4,
 "nbformat_minor": 2
}
