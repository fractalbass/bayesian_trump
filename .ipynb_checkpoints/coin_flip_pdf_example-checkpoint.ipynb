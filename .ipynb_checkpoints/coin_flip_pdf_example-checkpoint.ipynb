{
 "cells": [
  {
   "cell_type": "code",
   "execution_count": 6,
   "metadata": {},
   "outputs": [
    {
     "name": "stdout",
     "output_type": "stream",
     "text": [
      "Interval containing 95% of the distribution:  (0.43095093094181675, 0.56904906905818331)\n"
     ]
    },
    {
     "data": {
      "text/plain": [
       "<matplotlib.legend.Legend at 0x104e9f1d0>"
      ]
     },
     "execution_count": 6,
     "metadata": {},
     "output_type": "execute_result"
    },
    {
     "data": {
      "image/png": "[encoded data removed]",
      "text/plain": [
       "<matplotlib.figure.Figure at 0x10850b748>"
      ]
     },
     "metadata": {},
     "output_type": "display_data"
    }
   ],
   "source": [
    "from scipy.stats import beta\n",
    "import matplotlib.pyplot as plt\n",
    "import numpy as np\n",
    "\n",
    "%matplotlib inline\n",
    "\n",
    "# helper function for plotting\n",
    "def plot_beta(a,b,ax, print_interval=True):\n",
    "    ax.set_xlabel(\"p\")\n",
    "    ax.set_ylabel(\"probability density\")\n",
    "    x = np.linspace(0.00,1, 100)\n",
    "    label = \"$\\\\alpha= \" + str(a) + \", \\\\beta=\" + str(b) + \"$\"\n",
    "    dist = beta(a,b)\n",
    "    # plot density\n",
    "    ax.plot(x, dist.pdf(x),\n",
    "            lw=2, alpha=0.6, label=label)\n",
    "    # determine the 95% HDI\n",
    "    if print_interval:\n",
    "        print(\"Interval containing 95% of the distribution: \", dist.interval(0.95))\n",
    "        \n",
    "fig, ax = plt.subplots(1,1)\n",
    "plot_beta(10,10,ax)\n",
    "handles, labels = ax.get_legend_handles_labels()\n",
    "ax.legend(handles, labels)\n"
   ]
  },
  {
   "cell_type": "code",
   "execution_count": null,
   "metadata": {
    "collapsed": true
   },
   "outputs": [],
   "source": []
  }
 ],
 "metadata": {
  "kernelspec": {
   "display_name": "Python 3",
   "language": "python",
   "name": "python3"
  },
  "language_info": {
   "codemirror_mode": {
    "name": "ipython",
    "version": 3
   },
   "file_extension": ".py",
   "mimetype": "text/x-python",
   "name": "python",
   "nbconvert_exporter": "python",
   "pygments_lexer": "ipython3",
   "version": "3.6.1"
  }
 },
 "nbformat": 4,
 "nbformat_minor": 2
}
